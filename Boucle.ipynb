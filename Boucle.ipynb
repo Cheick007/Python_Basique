{
 "cells": [
  {
   "cell_type": "markdown",
   "id": "628af51d",
   "metadata": {},
   "source": [
    "#### EXERCICE 1"
   ]
  },
  {
   "cell_type": "code",
   "execution_count": 6,
   "id": "5d142f54",
   "metadata": {},
   "outputs": [
    {
     "name": "stdout",
     "output_type": "stream",
     "text": [
      "Entrer un nombre :3\n"
     ]
    },
    {
     "data": {
      "text/plain": [
       "' le factorielle de 3 est :6'"
      ]
     },
     "execution_count": 6,
     "metadata": {},
     "output_type": "execute_result"
    }
   ],
   "source": [
    "n=int(input('Entrer un nombre :'))\n",
    "def fact(n):\n",
    "    facto=1\n",
    "    for i in range(1, n+1):\n",
    "        facto = facto*i\n",
    "    return f' le factorielle de {n} est :{facto}'\n",
    "   \n",
    "fact(n)"
   ]
  },
  {
   "cell_type": "markdown",
   "id": "609118d2",
   "metadata": {},
   "source": [
    "####  EXERCICE 2"
   ]
  },
  {
   "cell_type": "code",
   "execution_count": 16,
   "id": "cf2204a7",
   "metadata": {},
   "outputs": [
    {
     "name": "stdout",
     "output_type": "stream",
     "text": [
      "Entrer un nombre :10\n"
     ]
    },
    {
     "data": {
      "text/plain": [
       "[1, 3, 5, 7, 9]"
      ]
     },
     "execution_count": 16,
     "metadata": {},
     "output_type": "execute_result"
    }
   ],
   "source": [
    "n=int(input('Entrer un nombre :'))\n",
    "liste = []\n",
    "def impair(n):\n",
    "    i = 1\n",
    "    while i <=n:\n",
    "        liste.append(i)\n",
    "        i = i + 2\n",
    "    return liste\n",
    "impair(n)"
   ]
  },
  {
   "cell_type": "markdown",
   "id": "386ab58a",
   "metadata": {},
   "source": [
    "#### EXERCICE 3"
   ]
  },
  {
   "cell_type": "code",
   "execution_count": 22,
   "id": "73b98775",
   "metadata": {},
   "outputs": [
    {
     "name": "stdout",
     "output_type": "stream",
     "text": [
      "[10, 17, 25, 38, 72]\n"
     ]
    }
   ],
   "source": [
    "liste =[17, 38, 10, 25, 72] #triez et affichez la liste\n",
    "liste.sort()\n",
    "print(liste)"
   ]
  },
  {
   "cell_type": "code",
   "execution_count": 23,
   "id": "8b5731d6",
   "metadata": {},
   "outputs": [
    {
     "name": "stdout",
     "output_type": "stream",
     "text": [
      "[10, 17, 25, 38, 72, 12]\n"
     ]
    }
   ],
   "source": [
    "# ajoutez l’élément 12 à la liste et affichez la liste \n",
    "liste.append(12)\n",
    "print(liste)"
   ]
  },
  {
   "cell_type": "code",
   "execution_count": 24,
   "id": "f3567b0e",
   "metadata": {},
   "outputs": [
    {
     "name": "stdout",
     "output_type": "stream",
     "text": [
      "[12, 72, 38, 25, 17, 10]\n"
     ]
    }
   ],
   "source": [
    "# renversez et affichez la liste\n",
    "liste.reverse()\n",
    "print(liste)"
   ]
  },
  {
   "cell_type": "code",
   "execution_count": 25,
   "id": "8ecdb0af",
   "metadata": {},
   "outputs": [
    {
     "data": {
      "text/plain": [
       "6"
      ]
     },
     "execution_count": 25,
     "metadata": {},
     "output_type": "execute_result"
    }
   ],
   "source": [
    "# affichez le nombre d’éléments de la liste\n",
    "len(liste)"
   ]
  },
  {
   "cell_type": "code",
   "execution_count": 26,
   "id": "2662d2bf",
   "metadata": {},
   "outputs": [
    {
     "name": "stdout",
     "output_type": "stream",
     "text": [
      "[12, 72, 25, 17, 10]\n"
     ]
    }
   ],
   "source": [
    "# supprimez l’élément 38 et affichez la liste\n",
    "liste.remove(38)\n",
    "print(liste)"
   ]
  },
  {
   "cell_type": "code",
   "execution_count": 29,
   "id": "779e9b8f",
   "metadata": {},
   "outputs": [
    {
     "data": {
      "text/plain": [
       "[72, 25]"
      ]
     },
     "execution_count": 29,
     "metadata": {},
     "output_type": "execute_result"
    }
   ],
   "source": [
    "# affichez la sous-liste du 2e au 3e élément \n",
    "liste[1:3]"
   ]
  },
  {
   "cell_type": "code",
   "execution_count": 34,
   "id": "a49ebf90",
   "metadata": {},
   "outputs": [
    {
     "data": {
      "text/plain": [
       "[12, 72]"
      ]
     },
     "execution_count": 34,
     "metadata": {},
     "output_type": "execute_result"
    }
   ],
   "source": [
    "#  affichez la sous-liste du début au 2e élément ;\n",
    "liste[:2]"
   ]
  },
  {
   "cell_type": "code",
   "execution_count": 32,
   "id": "0c3ec2a9",
   "metadata": {},
   "outputs": [
    {
     "data": {
      "text/plain": [
       "[25, 17, 10]"
      ]
     },
     "execution_count": 32,
     "metadata": {},
     "output_type": "execute_result"
    }
   ],
   "source": [
    "# affichez la sous-liste du 3e élément à la fin de la liste\n",
    "liste[2:]"
   ]
  },
  {
   "cell_type": "markdown",
   "id": "a7ed7d31",
   "metadata": {},
   "source": [
    "#### EXERCICE 4"
   ]
  },
  {
   "cell_type": "code",
   "execution_count": 4,
   "id": "a198142c",
   "metadata": {},
   "outputs": [
    {
     "name": "stdout",
     "output_type": "stream",
     "text": [
      "[2, 7, 13, 18, 22]\n"
     ]
    }
   ],
   "source": [
    "def doublon(liste):\n",
    "    unique = []\n",
    "    for i in liste:\n",
    "        if i not in unique:\n",
    "            unique.append(i)\n",
    "    return unique\n",
    "\n",
    "# Exemple\n",
    "liste = [2, 7, 13, 2, 2, 13, 2, 7, 13, 18, 22, 18]\n",
    "print(doublon(liste))\n"
   ]
  },
  {
   "cell_type": "code",
   "execution_count": null,
   "id": "a661079a",
   "metadata": {},
   "outputs": [],
   "source": []
  }
 ],
 "metadata": {
  "kernelspec": {
   "display_name": "Python 3 (ipykernel)",
   "language": "python",
   "name": "python3"
  },
  "language_info": {
   "codemirror_mode": {
    "name": "ipython",
    "version": 3
   },
   "file_extension": ".py",
   "mimetype": "text/x-python",
   "name": "python",
   "nbconvert_exporter": "python",
   "pygments_lexer": "ipython3",
   "version": "3.10.9"
  }
 },
 "nbformat": 4,
 "nbformat_minor": 5
}
